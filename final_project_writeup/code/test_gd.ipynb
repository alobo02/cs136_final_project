{
 "cells": [
  {
   "cell_type": "code",
   "execution_count": 1,
   "id": "76a50983",
   "metadata": {},
   "outputs": [],
   "source": [
    "## Abstractions\n",
    "import numpy as np\n",
    "import pandas as pd\n",
    "\n",
    "## Plotting\n",
    "from matplotlib import pyplot as plt\n",
    "plt.style.use('seaborn')\n",
    "import seaborn as sns\n",
    "import pylab as pl\n",
    "\n",
    "## Scalers\n",
    "from sklearn.preprocessing import StandardScaler\n",
    "from sklearn.preprocessing import MinMaxScaler\n",
    "\n",
    "## Models\n",
    "from sklearn.linear_model import LogisticRegression\n",
    "\n",
    "## Model Selection\n",
    "from sklearn.model_selection import GridSearchCV\n",
    "from sklearn.model_selection import KFold\n",
    "from sklearn.model_selection import StratifiedKFold\n",
    "from sklearn import metrics\n",
    "from sklearn.metrics import RocCurveDisplay\n",
    "from sklearn.metrics import det_curve\n",
    "\n",
    "## Timing\n",
    "import time\n",
    "\n",
    "# Model\n",
    "from BayesianLogisticRegression_SOSGD import MAPEstimator"
   ]
  },
  {
   "cell_type": "markdown",
   "id": "4d409c86-24f8-4a69-8a79-9d5b9b2230c9",
   "metadata": {},
   "source": [
    "Import Data"
   ]
  },
  {
   "cell_type": "code",
   "execution_count": 2,
   "id": "e94dd653-2643-4297-b069-e86b56f7548f",
   "metadata": {},
   "outputs": [],
   "source": [
    "headers = ['molecule_name', 'conformation_name']\n",
    "for i in range(1, 167):\n",
    "    name = 'f%i' % i\n",
    "    headers.append(name)\n",
    "headers.append('class')"
   ]
  },
  {
   "cell_type": "code",
   "execution_count": 3,
   "id": "3d9da740",
   "metadata": {},
   "outputs": [],
   "source": [
    "# headers = pd.read_csv('clean2.info')\n",
    "df = pd.read_csv('src/clean2.data')\n",
    "df.columns = headers"
   ]
  },
  {
   "cell_type": "code",
   "execution_count": 4,
   "id": "c4c4d9bb-3816-4ed3-80f2-f586a1168374",
   "metadata": {},
   "outputs": [],
   "source": [
    "X = np.asarray(df.iloc[:,2:-1])\n",
    "y = np.asarray(df.iloc[:,-1])"
   ]
  },
  {
   "cell_type": "markdown",
   "id": "8c02762b-c4d1-49aa-b363-5087f4e516b4",
   "metadata": {},
   "source": [
    "Standard Scaler"
   ]
  },
  {
   "cell_type": "code",
   "execution_count": 5,
   "id": "fc960a64-cea9-4690-a18a-96483113eff6",
   "metadata": {},
   "outputs": [],
   "source": [
    "X_std = StandardScaler().fit_transform(X)"
   ]
  },
  {
   "cell_type": "markdown",
   "id": "4c63d88e-f413-40bf-ab02-ae90f6d75539",
   "metadata": {},
   "source": [
    "Train and Test Model"
   ]
  },
  {
   "cell_type": "code",
   "execution_count": 6,
   "id": "2c17cd38-0fbb-4983-a1ca-277212a002fd",
   "metadata": {},
   "outputs": [],
   "source": [
    "clf = MAPEstimator(w_D = np.zeros(166), step_size=0.001, alpha=0.1, max_iter = 1000, tol = 0.00000001)\n",
    "clf.fit(X_std,y)\n",
    "predict_y = clf.predict_proba(X_std)"
   ]
  },
  {
   "cell_type": "code",
   "execution_count": 8,
   "id": "80b8f9ad-873c-44fd-ba6f-14b2f1aaabb8",
   "metadata": {},
   "outputs": [
    {
     "data": {
      "text/plain": [
       "0.8459906017886918"
      ]
     },
     "execution_count": 8,
     "metadata": {},
     "output_type": "execute_result"
    }
   ],
   "source": [
    "score = clf.score(X_std, y)\n",
    "score"
   ]
  },
  {
   "cell_type": "code",
   "execution_count": 9,
   "id": "93867b81-8be2-4556-9202-0790b9a2b7a9",
   "metadata": {},
   "outputs": [
    {
     "data": {
      "text/plain": [
       "0.8459906017886918"
      ]
     },
     "execution_count": 9,
     "metadata": {},
     "output_type": "execute_result"
    }
   ],
   "source": [
    "(np.sum(y==0)) / len(y)"
   ]
  },
  {
   "cell_type": "code",
   "execution_count": 10,
   "id": "4c66b23c",
   "metadata": {},
   "outputs": [
    {
     "data": {
      "text/plain": [
       "1016"
      ]
     },
     "execution_count": 10,
     "metadata": {},
     "output_type": "execute_result"
    }
   ],
   "source": [
    "np.sum(y==1)"
   ]
  },
  {
   "cell_type": "code",
   "execution_count": 11,
   "id": "cb8b1fed-b5f9-4a04-b597-e0a662cab29e",
   "metadata": {},
   "outputs": [
    {
     "data": {
      "text/plain": [
       "2"
      ]
     },
     "execution_count": 11,
     "metadata": {},
     "output_type": "execute_result"
    }
   ],
   "source": [
    "clf.iteration_count"
   ]
  },
  {
   "cell_type": "code",
   "execution_count": 76,
   "id": "5f3ba986",
   "metadata": {},
   "outputs": [
    {
     "data": {
      "text/plain": [
       "[<matplotlib.lines.Line2D at 0x7fabd901ddf0>]"
      ]
     },
     "execution_count": 76,
     "metadata": {},
     "output_type": "execute_result"
    },
    {
     "data": {
      "image/png": "[encoded data removed]",
      "text/plain": [
       "<Figure size 576x396 with 1 Axes>"
      ]
     },
     "metadata": {},
     "output_type": "display_data"
    }
   ],
   "source": [
    "plt.plot(clf.loss_array)"
   ]
  },
  {
   "cell_type": "code",
   "execution_count": 77,
   "id": "5f0d63db",
   "metadata": {},
   "outputs": [],
   "source": [
    "clf = MAPEstimator(w_D = np.zeros(166), step_size=0.001, alpha=0.1, max_iter = 100000, tol = 0.00000001, step_size_type = 'differential')\n",
    "clf.fit(X_std,y)\n",
    "predict_y = clf.predict_proba(X_std)"
   ]
  },
  {
   "cell_type": "code",
   "execution_count": 78,
   "id": "e62edcc8",
   "metadata": {},
   "outputs": [
    {
     "data": {
      "text/plain": [
       "0.8669092011520388"
      ]
     },
     "execution_count": 78,
     "metadata": {},
     "output_type": "execute_result"
    }
   ],
   "source": [
    "score = clf.score(X_std, y)\n",
    "score"
   ]
  },
  {
   "cell_type": "code",
   "execution_count": 79,
   "id": "3d2c62ce",
   "metadata": {},
   "outputs": [
    {
     "data": {
      "text/plain": [
       "0.8459906017886918"
      ]
     },
     "execution_count": 79,
     "metadata": {},
     "output_type": "execute_result"
    }
   ],
   "source": [
    "(np.sum(y==0)) / len(y)"
   ]
  },
  {
   "cell_type": "code",
   "execution_count": 80,
   "id": "b9e861f4",
   "metadata": {},
   "outputs": [
    {
     "data": {
      "text/plain": [
       "27815"
      ]
     },
     "execution_count": 80,
     "metadata": {},
     "output_type": "execute_result"
    }
   ],
   "source": [
    "clf.iteration_count"
   ]
  },
  {
   "cell_type": "code",
   "execution_count": 81,
   "id": "6b602421",
   "metadata": {},
   "outputs": [
    {
     "data": {
      "text/plain": [
       "[<matplotlib.lines.Line2D at 0x7fabba3bbd30>]"
      ]
     },
     "execution_count": 81,
     "metadata": {},
     "output_type": "execute_result"
    },
    {
     "data": {
      "image/png": "[encoded data removed]",
      "text/plain": [
       "<Figure size 576x396 with 1 Axes>"
      ]
     },
     "metadata": {},
     "output_type": "display_data"
    }
   ],
   "source": [
    "plt.plot(clf.loss_array)"
   ]
  },
  {
   "cell_type": "markdown",
   "id": "6b7edba7",
   "metadata": {},
   "source": [
    "Model Evaluation"
   ]
  },
  {
   "cell_type": "code",
   "execution_count": 53,
   "id": "f1087215",
   "metadata": {},
   "outputs": [
    {
     "data": {
      "text/plain": [
       "10"
      ]
     },
     "execution_count": 53,
     "metadata": {},
     "output_type": "execute_result"
    }
   ],
   "source": [
    "kf = KFold(n_splits=10, shuffle = True, random_state = 136)\n",
    "kf.get_n_splits(X_std, y)"
   ]
  },
  {
   "cell_type": "code",
   "execution_count": 54,
   "id": "0a7ab134",
   "metadata": {},
   "outputs": [],
   "source": [
    "#First-Order Gradient Descent K-fold cross validation\n",
    "\n",
    "iteration_counts = []\n",
    "iteration_times = []\n",
    "test_scores = []\n",
    "threshold = 0.8\n",
    "\n",
    "for train_index, test_index in kf.split(X_std, y):\n",
    "    X_train, X_test = X_std[train_index], X_std[test_index]\n",
    "    y_train, y_test = y[train_index], y[test_index]\n",
    "    clf = MAPEstimator(w_D = np.zeros(166), step_size=0.001, alpha=0.1, max_iter = 100000, tol = 0.00000001)\n",
    "    start_time = time.time()\n",
    "    clf.fit(X_train,y_train)\n",
    "    end_time = time.time()\n",
    "    converge_time = end_time - start_time\n",
    "    iteration_times.append(converge_time)\n",
    "    iteration_counts.append(clf.iteration_count)\n",
    "    score = clf.score(X_test, y_test, threshold)\n",
    "    test_scores.append(score)\n",
    "    "
   ]
  },
  {
   "cell_type": "code",
   "execution_count": 55,
   "id": "2a3b8836",
   "metadata": {
    "scrolled": true
   },
   "outputs": [
    {
     "data": {
      "text/plain": [
       "[0.9136363636363637,\n",
       " 0.9136363636363637,\n",
       " 0.9287878787878788,\n",
       " 0.9227272727272727,\n",
       " 0.9272727272727272,\n",
       " 0.9166666666666666,\n",
       " 0.9227272727272727,\n",
       " 0.9226100151745068,\n",
       " 0.9195751138088012,\n",
       " 0.9377845220030349]"
      ]
     },
     "execution_count": 55,
     "metadata": {},
     "output_type": "execute_result"
    }
   ],
   "source": [
    "test_scores"
   ]
  },
  {
   "cell_type": "code",
   "execution_count": 56,
   "id": "5ae13725",
   "metadata": {},
   "outputs": [
    {
     "data": {
      "text/plain": [
       "[9485, 18253, 9619, 11857, 19341, 29322, 6679, 13448, 14238, 19559]"
      ]
     },
     "execution_count": 56,
     "metadata": {},
     "output_type": "execute_result"
    }
   ],
   "source": [
    "iteration_counts"
   ]
  },
  {
   "cell_type": "code",
   "execution_count": 57,
   "id": "402843a6",
   "metadata": {},
   "outputs": [],
   "source": [
    "fogd_accuracy = test_scores"
   ]
  },
  {
   "cell_type": "code",
   "execution_count": 58,
   "id": "0d60b98f",
   "metadata": {},
   "outputs": [],
   "source": [
    "fogd_iteration_counts = iteration_counts"
   ]
  },
  {
   "cell_type": "code",
   "execution_count": 59,
   "id": "edc54b88",
   "metadata": {},
   "outputs": [],
   "source": [
    "fogd_iteration_times = iteration_times"
   ]
  },
  {
   "cell_type": "code",
   "execution_count": 60,
   "id": "e4e1f53e",
   "metadata": {},
   "outputs": [
    {
     "data": {
      "text/plain": [
       "0.9225424196440889"
      ]
     },
     "execution_count": 60,
     "metadata": {},
     "output_type": "execute_result"
    }
   ],
   "source": [
    "np.mean(basic_test_scores)"
   ]
  },
  {
   "cell_type": "code",
   "execution_count": 61,
   "id": "5e1a87a4",
   "metadata": {},
   "outputs": [
    {
     "data": {
      "text/plain": [
       "15180.1"
      ]
     },
     "execution_count": 61,
     "metadata": {},
     "output_type": "execute_result"
    }
   ],
   "source": [
    "np.mean(basic_iteration_counts)"
   ]
  },
  {
   "cell_type": "code",
   "execution_count": 62,
   "id": "af4f081b",
   "metadata": {},
   "outputs": [
    {
     "data": {
      "text/plain": [
       "6.2845050573349"
      ]
     },
     "execution_count": 62,
     "metadata": {},
     "output_type": "execute_result"
    }
   ],
   "source": [
    "np.mean(iteration_times)"
   ]
  },
  {
   "cell_type": "code",
   "execution_count": 63,
   "id": "4db21527",
   "metadata": {},
   "outputs": [
    {
     "data": {
      "text/plain": [
       "10"
      ]
     },
     "execution_count": 63,
     "metadata": {},
     "output_type": "execute_result"
    }
   ],
   "source": [
    "kf = KFold(n_splits=10, shuffle = True, random_state = 136)\n",
    "kf.get_n_splits(X_std, y)"
   ]
  },
  {
   "cell_type": "code",
   "execution_count": 64,
   "id": "8e840a92",
   "metadata": {},
   "outputs": [],
   "source": [
    "#fogd cross validation with differential step sizes\n",
    "\n",
    "# iteration_counts = []\n",
    "# test_scores = []\n",
    "\n",
    "# for train_index, test_index in kf.split(X_std, y):\n",
    "#     X_train, X_test = X_std[train_index], X_std[test_index]\n",
    "#     y_train, y_test = y[train_index], y[test_index]\n",
    "#     clf = MAPEstimator(w_D = np.zeros(166), step_size=0.001, alpha=0.1, max_iter = 100000, tol = 0.00000001, step_size_type = 'differential')\n",
    "#     clf.fit(X_train,y_train)\n",
    "#     iteration_counts.append(clf.iteration_count)\n",
    "#     score = clf.score(X_test, y_test)\n",
    "#     test_scores.append(score)\n",
    "    "
   ]
  },
  {
   "cell_type": "code",
   "execution_count": 65,
   "id": "a44cf445",
   "metadata": {},
   "outputs": [],
   "source": [
    "#Second-Order Gradient Descent cross validation TBD\n",
    "\n",
    "iteration_counts = []\n",
    "iteration_times = []\n",
    "test_scores = []\n",
    "threshold = 0.8\n",
    "\n",
    "for train_index, test_index in kf.split(X_std, y):\n",
    "    X_train, X_test = X_std[train_index], X_std[test_index]\n",
    "    y_train, y_test = y[train_index], y[test_index]\n",
    "    clf = MAPEstimator(w_D = np.zeros(166), step_size=0.001, alpha=0.1, max_iter = 100000, tol = 0.00000001)\n",
    "    start_time = time.time()\n",
    "    clf.fit(X_train,y_train)\n",
    "    end_time = time.time()\n",
    "    converge_time = end_time - start_time\n",
    "    iteration_times.append(converge_time)\n",
    "    iteration_counts.append(clf.iteration_count)\n",
    "    score = clf.score(X_test, y_test, threshold)\n",
    "    test_scores.append(score)"
   ]
  },
  {
   "cell_type": "code",
   "execution_count": 66,
   "id": "c25874bd",
   "metadata": {
    "scrolled": true
   },
   "outputs": [
    {
     "data": {
      "text/plain": [
       "[0.9136363636363637,\n",
       " 0.9136363636363637,\n",
       " 0.9287878787878788,\n",
       " 0.9227272727272727,\n",
       " 0.9272727272727272,\n",
       " 0.9166666666666666,\n",
       " 0.9227272727272727,\n",
       " 0.9226100151745068,\n",
       " 0.9195751138088012,\n",
       " 0.9377845220030349]"
      ]
     },
     "execution_count": 66,
     "metadata": {},
     "output_type": "execute_result"
    }
   ],
   "source": [
    "test_scores"
   ]
  },
  {
   "cell_type": "code",
   "execution_count": 51,
   "id": "41b0624e",
   "metadata": {},
   "outputs": [
    {
     "data": {
      "text/plain": [
       "[9485, 18253, 9619, 11857, 19341, 29322, 6679, 13448, 14238, 19559]"
      ]
     },
     "execution_count": 51,
     "metadata": {},
     "output_type": "execute_result"
    }
   ],
   "source": [
    "iteration_counts"
   ]
  },
  {
   "cell_type": "code",
   "execution_count": 94,
   "id": "95ec822d",
   "metadata": {},
   "outputs": [],
   "source": [
    "sogd_test_scores = test_scores"
   ]
  },
  {
   "cell_type": "code",
   "execution_count": 95,
   "id": "11801db4",
   "metadata": {},
   "outputs": [],
   "source": [
    "sogd_iteration_counts = iteration_counts"
   ]
  },
  {
   "cell_type": "code",
   "execution_count": null,
   "id": "fccbd554",
   "metadata": {},
   "outputs": [],
   "source": [
    "sogd_iteration_times = iteration_times"
   ]
  },
  {
   "cell_type": "code",
   "execution_count": 96,
   "id": "cff59914",
   "metadata": {},
   "outputs": [
    {
     "data": {
      "text/plain": [
       "0.8741934519703867"
      ]
     },
     "execution_count": 96,
     "metadata": {},
     "output_type": "execute_result"
    }
   ],
   "source": [
    "np.mean(sogd_test_scores)"
   ]
  },
  {
   "cell_type": "code",
   "execution_count": 97,
   "id": "65642222",
   "metadata": {},
   "outputs": [
    {
     "data": {
      "text/plain": [
       "13270.4"
      ]
     },
     "execution_count": 97,
     "metadata": {},
     "output_type": "execute_result"
    }
   ],
   "source": [
    "np.mean(sogd_iteration_counts)"
   ]
  },
  {
   "cell_type": "code",
   "execution_count": 52,
   "id": "50a117fd",
   "metadata": {},
   "outputs": [
    {
     "ename": "NameError",
     "evalue": "name 'fogd_test_scores' is not defined",
     "output_type": "error",
     "traceback": [
      "\u001b[0;31m---------------------------------------------------------------------------\u001b[0m",
      "\u001b[0;31mNameError\u001b[0m                                 Traceback (most recent call last)",
      "\u001b[0;32m/var/folders/45/42t24bsj05jfy277td751vh40000gn/T/ipykernel_5337/3518827504.py\u001b[0m in \u001b[0;36m<module>\u001b[0;34m\u001b[0m\n\u001b[0;32m----> 1\u001b[0;31m \u001b[0mplot_test_scores\u001b[0m \u001b[0;34m=\u001b[0m \u001b[0mnp\u001b[0m\u001b[0;34m.\u001b[0m\u001b[0marray\u001b[0m\u001b[0;34m(\u001b[0m\u001b[0;34m[\u001b[0m\u001b[0mfogd_test_scores\u001b[0m\u001b[0;34m,\u001b[0m \u001b[0msogd_test_scores\u001b[0m\u001b[0;34m]\u001b[0m\u001b[0;34m)\u001b[0m\u001b[0;34m\u001b[0m\u001b[0;34m\u001b[0m\u001b[0m\n\u001b[0m",
      "\u001b[0;31mNameError\u001b[0m: name 'fogd_test_scores' is not defined"
     ]
    }
   ],
   "source": [
    "plot_test_scores = np.array([fogd_test_scores, sogd_test_scores])"
   ]
  },
  {
   "cell_type": "code",
   "execution_count": 101,
   "id": "3a2c06bd",
   "metadata": {},
   "outputs": [],
   "source": [
    "plot_iteration_counts = np.array([fogd_iteration_counts, sogd_iteration_counts])"
   ]
  },
  {
   "cell_type": "code",
   "execution_count": null,
   "id": "92365bad",
   "metadata": {},
   "outputs": [],
   "source": [
    "plot_iteration_counts = np.array([fogd_iteration_times, sogd_iteration_times])"
   ]
  },
  {
   "cell_type": "code",
   "execution_count": 102,
   "id": "6d846777",
   "metadata": {},
   "outputs": [
    {
     "data": {
      "text/plain": [
       "[<matplotlib.lines.Line2D at 0x7fabba9c9850>,\n",
       " <matplotlib.lines.Line2D at 0x7fabba9c97f0>,\n",
       " <matplotlib.lines.Line2D at 0x7fabba9c99a0>,\n",
       " <matplotlib.lines.Line2D at 0x7fabba9c9ac0>,\n",
       " <matplotlib.lines.Line2D at 0x7fabba9c9be0>,\n",
       " <matplotlib.lines.Line2D at 0x7fabba9c9d00>,\n",
       " <matplotlib.lines.Line2D at 0x7fabba9c9e20>,\n",
       " <matplotlib.lines.Line2D at 0x7fabba9c9880>,\n",
       " <matplotlib.lines.Line2D at 0x7fabba9d5070>,\n",
       " <matplotlib.lines.Line2D at 0x7fabba9d5190>]"
      ]
     },
     "execution_count": 102,
     "metadata": {},
     "output_type": "execute_result"
    },
    {
     "data": {
      "image/png": "[encoded data removed]",
      "text/plain": [
       "<Figure size 576x396 with 2 Axes>"
      ]
     },
     "metadata": {},
     "output_type": "display_data"
    }
   ],
   "source": [
    "# fig, (ax1, ax2) = plt.subplots(1, 2)\n",
    "# fig.suptitle('Horizontally stacked subplots')\n",
    "# ax1.plot(['basic','differential'],plot_test_scores)\n",
    "# ax2.plot(['basic','differential'], plot_iteration_counts)"
   ]
  },
  {
   "cell_type": "code",
   "execution_count": 103,
   "id": "79cbfa0a",
   "metadata": {},
   "outputs": [
    {
     "data": {
      "text/plain": [
       "Text(0, 0.5, 'Accuracy Rate on Held-out Data')"
      ]
     },
     "execution_count": 103,
     "metadata": {},
     "output_type": "execute_result"
    },
    {
     "data": {
      "image/png": "[encoded data removed]",
      "text/plain": [
       "<Figure size 576x396 with 1 Axes>"
      ]
     },
     "metadata": {},
     "output_type": "display_data"
    }
   ],
   "source": [
    "plt.boxplot(np.transpose(plot_test_scores), labels = ['static', 'dynamic'])\n",
    "plt.title('Held-out Accuracy Rates by Weight Update Scheme')\n",
    "plt.ylabel('Accuracy Rate on Held-out Data')"
   ]
  },
  {
   "cell_type": "code",
   "execution_count": 104,
   "id": "8012f4d5",
   "metadata": {},
   "outputs": [
    {
     "data": {
      "text/plain": [
       "Text(0, 0.5, 'Number of Iterations until Convergence (Millions)')"
      ]
     },
     "execution_count": 104,
     "metadata": {},
     "output_type": "execute_result"
    },
    {
     "data": {
      "image/png": "[encoded data removed]",
      "text/plain": [
       "<Figure size 576x396 with 1 Axes>"
      ]
     },
     "metadata": {},
     "output_type": "display_data"
    }
   ],
   "source": [
    "plt.boxplot(np.transpose(plot_iteration_counts), labels = ['static', 'dynamic'])\n",
    "plt.ylabel('Number of Iterations until Convergence (Millions)')"
   ]
  },
  {
   "cell_type": "code",
   "execution_count": 105,
   "id": "c6055563",
   "metadata": {},
   "outputs": [
    {
     "data": {
      "text/plain": [
       "array([[0.90606061, 0.88333333, 0.89545455, 0.9030303 , 0.88181818,\n",
       "        0.85757576, 0.91212121, 0.84066768, 0.88467375, 0.90136571],\n",
       "       [0.88181818, 0.85909091, 0.8530303 , 0.85909091, 0.82272727,\n",
       "        0.9030303 , 0.88636364, 0.91805766, 0.89377845, 0.86494689]])"
      ]
     },
     "execution_count": 105,
     "metadata": {},
     "output_type": "execute_result"
    }
   ],
   "source": [
    "plot_test_scores"
   ]
  },
  {
   "cell_type": "code",
   "execution_count": 106,
   "id": "4a764275",
   "metadata": {},
   "outputs": [
    {
     "data": {
      "text/plain": [
       "[<matplotlib.lines.Line2D at 0x7fabcbed6520>]"
      ]
     },
     "execution_count": 106,
     "metadata": {},
     "output_type": "execute_result"
    },
    {
     "data": {
      "image/png": "[encoded data removed]",
      "text/plain": [
       "<Figure size 576x396 with 1 Axes>"
      ]
     },
     "metadata": {},
     "output_type": "display_data"
    }
   ],
   "source": [
    "plt.plot(clf.loss_array)"
   ]
  },
  {
   "cell_type": "code",
   "execution_count": 107,
   "id": "3cc29820",
   "metadata": {},
   "outputs": [],
   "source": [
    "clf = LogisticRegression(penalty=\"none\", solver = 'sag', max_iter = 100000)"
   ]
  },
  {
   "cell_type": "code",
   "execution_count": 108,
   "id": "8f7b794d",
   "metadata": {},
   "outputs": [],
   "source": [
    "clf.fit(X_std,y)\n",
    "predict_y = clf.predict_proba(X_std)"
   ]
  },
  {
   "cell_type": "code",
   "execution_count": 120,
   "id": "6d78b21f",
   "metadata": {},
   "outputs": [
    {
     "data": {
      "text/plain": [
       "0.9041988782780052"
      ]
     },
     "execution_count": 120,
     "metadata": {},
     "output_type": "execute_result"
    }
   ],
   "source": [
    "score = clf.score(X_std, y)\n",
    "score"
   ]
  },
  {
   "cell_type": "code",
   "execution_count": 121,
   "id": "0a1bf221",
   "metadata": {},
   "outputs": [
    {
     "ename": "AttributeError",
     "evalue": "'MAPEstimator' object has no attribute 'coef_'",
     "output_type": "error",
     "traceback": [
      "\u001b[0;31m---------------------------------------------------------------------------\u001b[0m",
      "\u001b[0;31mAttributeError\u001b[0m                            Traceback (most recent call last)",
      "\u001b[0;32m/var/folders/45/42t24bsj05jfy277td751vh40000gn/T/ipykernel_5139/4290856733.py\u001b[0m in \u001b[0;36m<module>\u001b[0;34m\u001b[0m\n\u001b[0;32m----> 1\u001b[0;31m \u001b[0msk_weights\u001b[0m \u001b[0;34m=\u001b[0m \u001b[0mclf\u001b[0m\u001b[0;34m.\u001b[0m\u001b[0mcoef_\u001b[0m\u001b[0;34m[\u001b[0m\u001b[0;36m0\u001b[0m\u001b[0;34m]\u001b[0m\u001b[0;34m\u001b[0m\u001b[0;34m\u001b[0m\u001b[0m\n\u001b[0m",
      "\u001b[0;31mAttributeError\u001b[0m: 'MAPEstimator' object has no attribute 'coef_'"
     ]
    }
   ],
   "source": [
    "sk_weights = clf.coef_[0]"
   ]
  },
  {
   "cell_type": "code",
   "execution_count": 122,
   "id": "d9e27497",
   "metadata": {},
   "outputs": [
    {
     "data": {
      "text/plain": [
       "array([-1.29698224e-01, -2.53604929e-02,  3.61302927e-02, -2.43836000e-02,\n",
       "       -7.08463776e-02, -1.73228269e-02,  2.48353706e-02, -1.44586977e-02,\n",
       "        4.61045261e-02,  1.57887558e-02,  3.97900608e-03, -9.77666107e-03,\n",
       "       -4.08462748e-02, -2.68847740e-02, -2.71383118e-02, -4.41245407e-02,\n",
       "        5.76777183e-02,  4.46755905e-03, -2.77688563e-02,  8.66189746e-03,\n",
       "        2.15315841e-02,  1.11999463e-02,  1.66303748e-02,  4.99375435e-02,\n",
       "       -5.63773330e-03,  4.24284228e-02, -8.60623763e-03, -2.56770263e-02,\n",
       "       -1.76452975e-02,  2.50353510e-02, -1.20172752e-01, -6.65467895e-02,\n",
       "       -1.54523279e-03,  2.43120844e-02, -2.54477493e-02, -1.92653432e-01,\n",
       "       -6.72492748e-02,  2.38248341e-03,  3.04561918e-02, -4.37936008e-02,\n",
       "        6.43484165e-02, -2.47075809e-02,  1.00071593e-03, -1.85606888e-02,\n",
       "       -2.14985378e-02, -2.09033238e-02, -6.27926811e-02,  3.04750819e-02,\n",
       "       -4.13557575e-02,  5.16370739e-02,  2.72394589e-02,  3.56035246e-02,\n",
       "        3.46625242e-02, -3.12023182e-02, -1.68573088e-02,  5.15627267e-02,\n",
       "        4.87383733e-03, -7.34496864e-02, -2.40119966e-02,  1.00740867e-02,\n",
       "       -8.34599522e-02, -1.08907214e-02,  3.82086341e-02,  3.22020560e-02,\n",
       "        2.00334444e-02, -1.47201493e-01, -8.01944590e-02, -4.49848505e-02,\n",
       "       -1.13054208e-01, -7.69743079e-02,  5.71904379e-02, -8.82669558e-03,\n",
       "       -1.08599734e-02, -2.66134741e-02, -1.22848231e-02, -5.76809115e-02,\n",
       "        5.01737806e-02, -6.47140590e-03, -1.08758470e-02, -2.29626301e-02,\n",
       "        1.55366493e-02,  8.05664931e-03,  5.77488166e-02, -1.46382108e-02,\n",
       "        2.11517208e-02,  4.59702889e-02, -2.29394745e-03,  5.45671042e-03,\n",
       "       -3.80926621e-02,  1.13371905e-02, -1.25267862e-01, -1.63854423e-01,\n",
       "       -1.11646973e-03,  4.21480189e-02,  7.44755374e-02, -1.61968919e-01,\n",
       "        2.60085069e-02, -1.33109856e-02,  7.97528041e-02, -2.89167512e-02,\n",
       "        4.37302406e-02, -9.47911934e-02, -1.11317141e-02, -1.21205041e-02,\n",
       "       -2.23997757e-02, -2.41492941e-02, -6.42648304e-03,  6.08312049e-02,\n",
       "       -3.83300419e-02, -1.66284669e-02, -3.60540689e-02,  3.08990997e-02,\n",
       "        2.83853620e-02,  3.24324863e-02,  2.13640236e-02,  4.60451536e-02,\n",
       "        2.82368705e-02,  7.02739493e-02,  5.43422746e-02,  4.61300865e-02,\n",
       "        1.64390235e-02,  1.60000263e-02, -4.24050392e-03, -1.79980565e-01,\n",
       "       -8.64361899e-02, -1.18149486e-01,  3.61875162e-03,  2.16908632e-02,\n",
       "        3.26527605e-02, -5.09956716e-04, -2.90416167e-02, -1.49726530e-01,\n",
       "       -2.81199469e-03, -2.22771598e-02, -2.05075196e-02, -5.36560826e-02,\n",
       "       -2.84004189e-02, -2.17533619e-02,  9.55683439e-03, -1.55444864e-04,\n",
       "        4.22524493e-02, -7.35924153e-03, -3.85309374e-02, -4.41027928e-02,\n",
       "       -9.87364559e-02, -4.54850305e-02, -4.90270959e-02, -6.44559948e-02,\n",
       "       -2.70049978e-02, -4.96898611e-02,  1.00540848e-02,  3.32338676e-02,\n",
       "        2.27549433e-02, -7.48265352e-03, -1.08037623e-02, -8.58055118e-03,\n",
       "       -2.80066854e-02, -5.69310692e-03,  4.52601432e-02,  4.67893069e-02,\n",
       "       -5.93832511e-02, -1.14507239e-01, -1.28479229e-01, -1.15443849e-01,\n",
       "       -4.62914163e-02,  6.36486537e-02])"
      ]
     },
     "execution_count": 122,
     "metadata": {},
     "output_type": "execute_result"
    }
   ],
   "source": [
    "clf.w_D"
   ]
  },
  {
   "cell_type": "code",
   "execution_count": 123,
   "id": "b1ce8676",
   "metadata": {},
   "outputs": [
    {
     "ename": "AttributeError",
     "evalue": "'MAPEstimator' object has no attribute 'intercept_'",
     "output_type": "error",
     "traceback": [
      "\u001b[0;31m---------------------------------------------------------------------------\u001b[0m",
      "\u001b[0;31mAttributeError\u001b[0m                            Traceback (most recent call last)",
      "\u001b[0;32m/var/folders/45/42t24bsj05jfy277td751vh40000gn/T/ipykernel_5139/3046031642.py\u001b[0m in \u001b[0;36m<module>\u001b[0;34m\u001b[0m\n\u001b[0;32m----> 1\u001b[0;31m \u001b[0mclf\u001b[0m\u001b[0;34m.\u001b[0m\u001b[0mintercept_\u001b[0m\u001b[0;34m\u001b[0m\u001b[0;34m\u001b[0m\u001b[0m\n\u001b[0m",
      "\u001b[0;31mAttributeError\u001b[0m: 'MAPEstimator' object has no attribute 'intercept_'"
     ]
    }
   ],
   "source": [
    "clf.intercept_"
   ]
  },
  {
   "cell_type": "code",
   "execution_count": 124,
   "id": "1cbb0219",
   "metadata": {},
   "outputs": [
    {
     "data": {
      "text/plain": [
       "-1.5123348031260848"
      ]
     },
     "execution_count": 124,
     "metadata": {},
     "output_type": "execute_result"
    }
   ],
   "source": [
    "clf.c"
   ]
  },
  {
   "cell_type": "code",
   "execution_count": 125,
   "id": "2f5e43e7",
   "metadata": {},
   "outputs": [],
   "source": [
    "y_pred = clf.predict_proba(X_std)"
   ]
  },
  {
   "cell_type": "code",
   "execution_count": 126,
   "id": "fe8ec018",
   "metadata": {},
   "outputs": [
    {
     "data": {
      "text/plain": [
       "<sklearn.metrics._plot.roc_curve.RocCurveDisplay at 0x7fabcbee98b0>"
      ]
     },
     "execution_count": 126,
     "metadata": {},
     "output_type": "execute_result"
    },
    {
     "data": {
      "image/png": "[encoded data removed]",
      "text/plain": [
       "<Figure size 576x396 with 1 Axes>"
      ]
     },
     "metadata": {},
     "output_type": "display_data"
    }
   ],
   "source": [
    "RocCurveDisplay.from_predictions(y, y_pred)"
   ]
  },
  {
   "cell_type": "code",
   "execution_count": 127,
   "id": "6d31cc78",
   "metadata": {},
   "outputs": [],
   "source": [
    "fpr, fnr, thresholds = det_curve(y, y_pred)"
   ]
  },
  {
   "cell_type": "code",
   "execution_count": 128,
   "id": "749a274d",
   "metadata": {},
   "outputs": [
    {
     "data": {
      "text/plain": [
       "array([8.05411217e-01, 8.05411217e-01, 8.05232037e-01, ...,\n",
       "       3.58358717e-04, 1.79179359e-04, 0.00000000e+00])"
      ]
     },
     "execution_count": 128,
     "metadata": {},
     "output_type": "execute_result"
    }
   ],
   "source": [
    "fpr"
   ]
  },
  {
   "cell_type": "code",
   "execution_count": 129,
   "id": "9d555a4b",
   "metadata": {},
   "outputs": [
    {
     "data": {
      "text/plain": [
       "[<matplotlib.lines.Line2D at 0x7fab88876400>]"
      ]
     },
     "execution_count": 129,
     "metadata": {},
     "output_type": "execute_result"
    },
    {
     "data": {
      "image/png": "[encoded data removed]",
      "text/plain": [
       "<Figure size 576x396 with 1 Axes>"
      ]
     },
     "metadata": {},
     "output_type": "display_data"
    }
   ],
   "source": [
    "plt.plot(thresholds, fpr)\n",
    "plt.plot(thresholds, fnr)"
   ]
  },
  {
   "cell_type": "code",
   "execution_count": null,
   "id": "1e878d4a",
   "metadata": {},
   "outputs": [],
   "source": []
  },
  {
   "cell_type": "code",
   "execution_count": 131,
   "id": "9bb9a746",
   "metadata": {},
   "outputs": [],
   "source": [
    "clf = MAPEstimator(w_D = np.zeros(166), step_size=0.001, alpha=0.1, max_iter = 100000, tol = 0.00000001)\n",
    "clf.fit(X_std,y)\n",
    "predict_y = clf.predict_proba(X_std)"
   ]
  },
  {
   "cell_type": "code",
   "execution_count": 21,
   "id": "0909b241",
   "metadata": {},
   "outputs": [
    {
     "name": "stdout",
     "output_type": "stream",
     "text": [
      "0.7 \t\t\t 0.9041988782780052\n",
      "0.702 \t\t\t 0.906472639078369\n",
      "0.704 \t\t\t 0.9073821433985145\n",
      "0.706 \t\t\t 0.9087463998787327\n",
      "0.708 \t\t\t 0.9099590723055935\n",
      "0.71 \t\t\t 0.9110201606790965\n",
      "0.712 \t\t\t 0.9117780809458845\n",
      "0.714 \t\t\t 0.91268758526603\n",
      "0.716 \t\t\t 0.9129907533727452\n",
      "0.718 \t\t\t 0.9140518417462483\n",
      "0.72 \t\t\t 0.9142034257996059\n",
      "0.722 \t\t\t 0.915264514173109\n",
      "0.724 \t\t\t 0.9161740184932545\n",
      "0.726 \t\t\t 0.9163256025466121\n",
      "0.728 \t\t\t 0.9172351068667576\n",
      "0.73 \t\t\t 0.9179930271335456\n",
      "0.732 \t\t\t 0.9176898590268304\n",
      "0.734 \t\t\t 0.9181446111869032\n",
      "0.736 \t\t\t 0.9182961952402607\n",
      "0.738 \t\t\t 0.9181446111869032\n",
      "0.74 \t\t\t 0.918902531453691\n",
      "0.742 \t\t\t 0.9205699560406245\n",
      "0.744 \t\t\t 0.9210247082006973\n",
      "0.746 \t\t\t 0.9219342125208428\n",
      "0.748 \t\t\t 0.9220857965742004\n",
      "0.75 \t\t\t 0.9229953008943459\n",
      "0.752 \t\t\t 0.9234500530544186\n",
      "0.754 \t\t\t 0.923298469001061\n",
      "0.756 \t\t\t 0.9234500530544186\n",
      "0.758 \t\t\t 0.924056389267849\n",
      "0.76 \t\t\t 0.924056389267849\n",
      "0.762 \t\t\t 0.924056389267849\n",
      "0.764 \t\t\t 0.9239048052144915\n",
      "0.766 \t\t\t 0.9237532211611339\n",
      "0.768 \t\t\t 0.924814309534637\n",
      "0.77 \t\t\t 0.9249658935879945\n",
      "0.772 \t\t\t 0.9245111414279218\n",
      "0.774 \t\t\t 0.924056389267849\n",
      "0.776 \t\t\t 0.9237532211611339\n",
      "0.778 \t\t\t 0.9239048052144915\n",
      "0.78 \t\t\t 0.9243595573745642\n",
      "0.782 \t\t\t 0.9249658935879945\n",
      "0.784 \t\t\t 0.924814309534637\n",
      "0.786 \t\t\t 0.9246627254812794\n",
      "0.788 \t\t\t 0.9239048052144915\n",
      "0.79 \t\t\t 0.9231468849477035\n",
      "0.792 \t\t\t 0.9234500530544186\n",
      "0.794 \t\t\t 0.9231468849477035\n",
      "0.796 \t\t\t 0.923298469001061\n",
      "0.7979999999999999 \t\t\t 0.923298469001061\n",
      "0.7999999999999999 \t\t\t 0.923298469001061\n",
      "0.8019999999999999 \t\t\t 0.9229953008943459\n",
      "0.8039999999999999 \t\t\t 0.9237532211611339\n",
      "0.8059999999999999 \t\t\t 0.9234500530544186\n",
      "0.8079999999999999 \t\t\t 0.9237532211611339\n",
      "0.8099999999999999 \t\t\t 0.9243595573745642\n",
      "0.8119999999999999 \t\t\t 0.924814309534637\n",
      "0.814 \t\t\t 0.9245111414279218\n",
      "0.816 \t\t\t 0.9246627254812794\n",
      "0.818 \t\t\t 0.9239048052144915\n",
      "0.82 \t\t\t 0.924056389267849\n",
      "0.822 \t\t\t 0.9237532211611339\n",
      "0.824 \t\t\t 0.9226921327876307\n",
      "0.826 \t\t\t 0.9228437168409883\n",
      "0.828 \t\t\t 0.9220857965742004\n",
      "0.83 \t\t\t 0.9217826284674853\n",
      "0.832 \t\t\t 0.9219342125208428\n",
      "0.834 \t\t\t 0.92147946036077\n",
      "0.836 \t\t\t 0.9213278763074124\n",
      "0.838 \t\t\t 0.9219342125208428\n",
      "0.84 \t\t\t 0.9213278763074124\n",
      "0.842 \t\t\t 0.9207215400939821\n",
      "0.844 \t\t\t 0.9202667879339094\n",
      "0.846 \t\t\t 0.9195088676671214\n",
      "0.848 \t\t\t 0.918902531453691\n",
      "0.85 \t\t\t 0.9192056995604062\n",
      "0.852 \t\t\t 0.9195088676671214\n",
      "0.854 \t\t\t 0.9187509474003335\n",
      "0.856 \t\t\t 0.9182961952402607\n",
      "0.858 \t\t\t 0.9181446111869032\n",
      "0.86 \t\t\t 0.9179930271335456\n",
      "0.862 \t\t\t 0.9175382749734728\n",
      "0.864 \t\t\t 0.9163256025466121\n",
      "0.866 \t\t\t 0.9161740184932545\n",
      "0.868 \t\t\t 0.9161740184932545\n",
      "0.87 \t\t\t 0.9155676822798242\n",
      "0.872 \t\t\t 0.9155676822798242\n",
      "0.874 \t\t\t 0.9151129301197514\n",
      "0.876 \t\t\t 0.9142034257996059\n",
      "0.878 \t\t\t 0.913445505532818\n",
      "0.88 \t\t\t 0.9122328331059573\n",
      "0.882 \t\t\t 0.9122328331059573\n",
      "0.884 \t\t\t 0.9113233287858117\n",
      "0.886 \t\t\t 0.9110201606790965\n",
      "0.888 \t\t\t 0.9105654085190238\n",
      "0.89 \t\t\t 0.9079884796119448\n",
      "0.892 \t\t\t 0.906472639078369\n",
      "0.894 \t\t\t 0.9037441261179324\n",
      "0.896 \t\t\t 0.9016219493709262\n",
      "0.898 \t\t\t 0.8999545247839927\n",
      "0.9 \t\t\t 0.897680763983629\n"
     ]
    }
   ],
   "source": [
    "x_axis = []\n",
    "y_axis = []\n",
    "for i in np.linspace(0.7,0.9,101):\n",
    "    score = clf.score(X_std, y, i)\n",
    "    x_axis.append(i)\n",
    "    y_axis.append(score)\n",
    "    print(i,'\\t\\t\\t',score)"
   ]
  },
  {
   "cell_type": "code",
   "execution_count": 22,
   "id": "a783f1f6",
   "metadata": {},
   "outputs": [
    {
     "data": {
      "text/plain": [
       "[<matplotlib.lines.Line2D at 0x7fa8ca102a60>]"
      ]
     },
     "execution_count": 22,
     "metadata": {},
     "output_type": "execute_result"
    },
    {
     "data": {
      "image/png": "[encoded data removed]",
      "text/plain": [
       "<Figure size 576x396 with 1 Axes>"
      ]
     },
     "metadata": {},
     "output_type": "display_data"
    }
   ],
   "source": [
    "plt.plot(x_axis, y_axis)"
   ]
  },
  {
   "cell_type": "code",
   "execution_count": 31,
   "id": "7470dac2",
   "metadata": {},
   "outputs": [
    {
     "data": {
      "text/plain": [
       "array([[ 0.32499431,  0.04874593,  0.7751828 , ...,  0.04809679,\n",
       "         0.0767304 , -0.69103699],\n",
       "       [ 0.04874593,  0.00731213,  0.11626856, ...,  0.00721477,\n",
       "         0.01150945, -0.10364605],\n",
       "       [ 0.7751828 ,  0.11626856,  1.84898312, ...,  0.11472022,\n",
       "         0.18301779, -1.6482793 ],\n",
       "       ...,\n",
       "       [ 0.04809679,  0.00721477,  0.11472022, ...,  0.0071187 ,\n",
       "         0.01135619, -0.10226577],\n",
       "       [ 0.0767304 ,  0.01150945,  0.18301779, ...,  0.01135619,\n",
       "         0.01811645, -0.16314983],\n",
       "       [-0.69103699, -0.10364605, -1.6482793 , ..., -0.10226577,\n",
       "        -0.16314983,  1.4693651 ]])"
      ]
     },
     "execution_count": 31,
     "metadata": {},
     "output_type": "execute_result"
    }
   ],
   "source": [
    "1.75 * (X_std[5054][:,np.newaxis] @ X_std[5054][:,np.newaxis].T) + 1e-6"
   ]
  },
  {
   "cell_type": "code",
   "execution_count": null,
   "id": "43a0a23c",
   "metadata": {},
   "outputs": [],
   "source": []
  }
 ],
 "metadata": {
  "kernelspec": {
   "display_name": "Python 3 (ipykernel)",
   "language": "python",
   "name": "python3"
  },
  "language_info": {
   "codemirror_mode": {
    "name": "ipython",
    "version": 3
   },
   "file_extension": ".py",
   "mimetype": "text/x-python",
   "name": "python",
   "nbconvert_exporter": "python",
   "pygments_lexer": "ipython3",
   "version": "3.8.2"
  }
 },
 "nbformat": 4,
 "nbformat_minor": 5
}
