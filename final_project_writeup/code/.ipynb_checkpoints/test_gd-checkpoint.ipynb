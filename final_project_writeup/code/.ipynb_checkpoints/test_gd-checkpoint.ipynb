{
 "cells": [
  {
   "cell_type": "code",
   "execution_count": 1,
   "id": "76a50983",
   "metadata": {},
   "outputs": [],
   "source": [
    "## Abstractions\n",
    "import numpy as np\n",
    "import pandas as pd\n",
    "\n",
    "## Plotting\n",
    "from matplotlib import pyplot as plt\n",
    "plt.style.use('seaborn')\n",
    "import seaborn as sns\n",
    "import pylab as pl\n",
    "\n",
    "## Scalers\n",
    "from sklearn.preprocessing import StandardScaler\n",
    "from sklearn.preprocessing import MinMaxScaler\n",
    "\n",
    "## Models\n",
    "from sklearn.linear_model import LogisticRegression\n",
    "\n",
    "## Model Selection\n",
    "from sklearn.model_selection import GridSearchCV\n",
    "from sklearn.model_selection import KFold\n",
    "from sklearn.model_selection import StratifiedKFold\n",
    "from sklearn import metrics\n",
    "from sklearn.metrics import RocCurveDisplay\n",
    "from sklearn.metrics import det_curve\n",
    "\n",
    "## Timing\n",
    "import time\n",
    "\n",
    "# Model\n",
    "from BayesianLogisticRegression import MAPEstimator"
   ]
  },
  {
   "cell_type": "markdown",
   "id": "4d409c86-24f8-4a69-8a79-9d5b9b2230c9",
   "metadata": {},
   "source": [
    "Import Data"
   ]
  },
  {
   "cell_type": "code",
   "execution_count": 2,
   "id": "e94dd653-2643-4297-b069-e86b56f7548f",
   "metadata": {},
   "outputs": [],
   "source": [
    "headers = ['molecule_name', 'conformation_name']\n",
    "for i in range(1, 167):\n",
    "    name = 'f%i' % i\n",
    "    headers.append(name)\n",
    "headers.append('class')"
   ]
  },
  {
   "cell_type": "code",
   "execution_count": 3,
   "id": "3d9da740",
   "metadata": {},
   "outputs": [],
   "source": [
    "# headers = pd.read_csv('clean2.info')\n",
    "df = pd.read_csv('src/clean2.data')\n",
    "df.columns = headers"
   ]
  },
  {
   "cell_type": "code",
   "execution_count": 4,
   "id": "c4c4d9bb-3816-4ed3-80f2-f586a1168374",
   "metadata": {},
   "outputs": [],
   "source": [
    "X = np.asarray(df.iloc[:,2:-1])\n",
    "y = np.asarray(df.iloc[:,-1])"
   ]
  },
  {
   "cell_type": "markdown",
   "id": "8c02762b-c4d1-49aa-b363-5087f4e516b4",
   "metadata": {},
   "source": [
    "Standard Scaler"
   ]
  },
  {
   "cell_type": "code",
   "execution_count": 5,
   "id": "fc960a64-cea9-4690-a18a-96483113eff6",
   "metadata": {},
   "outputs": [],
   "source": [
    "X_std = StandardScaler().fit_transform(X)"
   ]
  },
  {
   "cell_type": "markdown",
   "id": "4c63d88e-f413-40bf-ab02-ae90f6d75539",
   "metadata": {},
   "source": [
    "Train and Test Model"
   ]
  },
  {
   "cell_type": "code",
   "execution_count": 6,
   "id": "2c17cd38-0fbb-4983-a1ca-277212a002fd",
   "metadata": {},
   "outputs": [],
   "source": [
    "clf = MAPEstimator(w_D = np.zeros(166), step_size=0.01, alpha=0.000001, max_iter = 6000, tol = -1)\n",
    "clf.fit(X_std,y)\n",
    "predict_y = clf.predict_proba(X_std)"
   ]
  },
  {
   "cell_type": "code",
   "execution_count": 7,
   "id": "80b8f9ad-873c-44fd-ba6f-14b2f1aaabb8",
   "metadata": {},
   "outputs": [
    {
     "data": {
      "text/plain": [
       "0.8194633924511141"
      ]
     },
     "execution_count": 7,
     "metadata": {},
     "output_type": "execute_result"
    }
   ],
   "source": [
    "score = clf.score(X_std, y)\n",
    "score"
   ]
  },
  {
   "cell_type": "code",
   "execution_count": 8,
   "id": "93867b81-8be2-4556-9202-0790b9a2b7a9",
   "metadata": {},
   "outputs": [
    {
     "data": {
      "text/plain": [
       "0.8459906017886918"
      ]
     },
     "execution_count": 8,
     "metadata": {},
     "output_type": "execute_result"
    }
   ],
   "source": [
    "(np.sum(y==0)) / len(y)"
   ]
  },
  {
   "cell_type": "code",
   "execution_count": 9,
   "id": "cb8b1fed-b5f9-4a04-b597-e0a662cab29e",
   "metadata": {},
   "outputs": [
    {
     "data": {
      "text/plain": [
       "6001"
      ]
     },
     "execution_count": 9,
     "metadata": {},
     "output_type": "execute_result"
    }
   ],
   "source": [
    "clf.iteration_count"
   ]
  },
  {
   "cell_type": "code",
   "execution_count": 10,
   "id": "5f3ba986",
   "metadata": {},
   "outputs": [
    {
     "data": {
      "text/plain": [
       "[<matplotlib.lines.Line2D at 0x7f8bc85121c0>]"
      ]
     },
     "execution_count": 10,
     "metadata": {},
     "output_type": "execute_result"
    },
    {
     "data": {
      "image/png": "[encoded data removed]",
      "text/plain": [
       "<Figure size 576x396 with 1 Axes>"
      ]
     },
     "metadata": {},
     "output_type": "display_data"
    }
   ],
   "source": [
    "plt.plot(clf.loss_array)"
   ]
  },
  {
   "cell_type": "code",
   "execution_count": null,
   "id": "5f0d63db",
   "metadata": {},
   "outputs": [],
   "source": [
    "clf = MAPEstimator(w_D = np.zeros(166), step_size=0.000001, alpha=0.000001, max_iter = 10000000, tol = -1, step_size_type = 'differential')\n",
    "clf.fit(X_std,y)\n",
    "predict_y = clf.predict_proba(X_std)"
   ]
  },
  {
   "cell_type": "code",
   "execution_count": null,
   "id": "e62edcc8",
   "metadata": {},
   "outputs": [],
   "source": [
    "score = clf.score(X_std, y)\n",
    "score"
   ]
  },
  {
   "cell_type": "code",
   "execution_count": null,
   "id": "3d2c62ce",
   "metadata": {},
   "outputs": [],
   "source": [
    "(np.sum(y==0)) / len(y)"
   ]
  },
  {
   "cell_type": "code",
   "execution_count": null,
   "id": "b9e861f4",
   "metadata": {},
   "outputs": [],
   "source": [
    "clf.iteration_count"
   ]
  },
  {
   "cell_type": "code",
   "execution_count": null,
   "id": "6b602421",
   "metadata": {},
   "outputs": [],
   "source": [
    "plt.plot(clf.loss_array)"
   ]
  },
  {
   "cell_type": "markdown",
   "id": "6b7edba7",
   "metadata": {},
   "source": [
    "Model Evaluation"
   ]
  },
  {
   "cell_type": "code",
   "execution_count": null,
   "id": "f1087215",
   "metadata": {},
   "outputs": [],
   "source": [
    "kf = KFold(n_splits=10, shuffle = True, random_state = 136)\n",
    "kf.get_n_splits(X_std, y)"
   ]
  },
  {
   "cell_type": "code",
   "execution_count": null,
   "id": "0a7ab134",
   "metadata": {},
   "outputs": [],
   "source": [
    "iteration_counts = []\n",
    "test_scores = []\n",
    "\n",
    "for train_index, test_index in kf.split(X_std, y):\n",
    "    X_train, X_test = X_std[train_index], X_std[test_index]\n",
    "    y_train, y_test = y[train_index], y[test_index]\n",
    "    clf = MAPEstimator(w_D = np.zeros(X.shape[1]), step_size=0.1, alpha=0.1, max_iter = 10000000)\n",
    "    clf.fit(X_train,y_train)\n",
    "    iteration_counts.append(clf.iteration_count)\n",
    "    score = clf.score(X_test, y_test)\n",
    "    test_scores.append(score)\n",
    "    "
   ]
  },
  {
   "cell_type": "code",
   "execution_count": null,
   "id": "2a3b8836",
   "metadata": {
    "scrolled": true
   },
   "outputs": [],
   "source": [
    "test_scores"
   ]
  },
  {
   "cell_type": "code",
   "execution_count": null,
   "id": "5ae13725",
   "metadata": {},
   "outputs": [],
   "source": [
    "iteration_counts"
   ]
  },
  {
   "cell_type": "code",
   "execution_count": null,
   "id": "402843a6",
   "metadata": {},
   "outputs": [],
   "source": [
    "basic_test_scores = test_scores"
   ]
  },
  {
   "cell_type": "code",
   "execution_count": null,
   "id": "0d60b98f",
   "metadata": {},
   "outputs": [],
   "source": [
    "basic_iteration_counts = iteration_counts"
   ]
  },
  {
   "cell_type": "code",
   "execution_count": null,
   "id": "e4e1f53e",
   "metadata": {},
   "outputs": [],
   "source": [
    "np.mean(basic_test_scores)"
   ]
  },
  {
   "cell_type": "code",
   "execution_count": null,
   "id": "5e1a87a4",
   "metadata": {},
   "outputs": [],
   "source": [
    "np.mean(basic_iteration_counts)"
   ]
  },
  {
   "cell_type": "code",
   "execution_count": null,
   "id": "4db21527",
   "metadata": {},
   "outputs": [],
   "source": [
    "kf = KFold(n_splits=10, shuffle = True, random_state = 136)\n",
    "kf.get_n_splits(X_std, y)"
   ]
  },
  {
   "cell_type": "code",
   "execution_count": null,
   "id": "8e840a92",
   "metadata": {},
   "outputs": [],
   "source": [
    "iteration_counts = []\n",
    "test_scores = []\n",
    "\n",
    "for train_index, test_index in kf.split(X_std, y):\n",
    "    X_train, X_test = X_std[train_index], X_std[test_index]\n",
    "    y_train, y_test = y[train_index], y[test_index]\n",
    "    clf = MAPEstimator(w_D = np.zeros(X.shape[1]), step_size=0.1, alpha=0.1, max_iter = 10000000, step_size_type = 'differential')\n",
    "    clf.fit(X_train,y_train)\n",
    "    iteration_counts.append(clf.iteration_count)\n",
    "    score = clf.score(X_test, y_test)\n",
    "    test_scores.append(score)\n",
    "    "
   ]
  },
  {
   "cell_type": "code",
   "execution_count": null,
   "id": "c25874bd",
   "metadata": {
    "scrolled": true
   },
   "outputs": [],
   "source": [
    "test_scores"
   ]
  },
  {
   "cell_type": "code",
   "execution_count": null,
   "id": "41b0624e",
   "metadata": {},
   "outputs": [],
   "source": [
    "iteration_counts"
   ]
  },
  {
   "cell_type": "code",
   "execution_count": null,
   "id": "95ec822d",
   "metadata": {},
   "outputs": [],
   "source": [
    "differential_test_scores = test_scores"
   ]
  },
  {
   "cell_type": "code",
   "execution_count": null,
   "id": "11801db4",
   "metadata": {},
   "outputs": [],
   "source": [
    "differential_iteration_counts = iteration_counts"
   ]
  },
  {
   "cell_type": "code",
   "execution_count": null,
   "id": "cff59914",
   "metadata": {},
   "outputs": [],
   "source": [
    "np.mean(differential_test_scores)"
   ]
  },
  {
   "cell_type": "code",
   "execution_count": null,
   "id": "65642222",
   "metadata": {},
   "outputs": [],
   "source": [
    "np.mean(differential_iteration_counts)"
   ]
  },
  {
   "cell_type": "code",
   "execution_count": null,
   "id": "dc0714cc",
   "metadata": {},
   "outputs": [],
   "source": [
    "plot_test_scores = np.array([np.mean(basic_test_scores),np.mean(differential_test_scores)])"
   ]
  },
  {
   "cell_type": "code",
   "execution_count": null,
   "id": "ba6f701d",
   "metadata": {},
   "outputs": [],
   "source": [
    "plot_iteration_counts = np.array([np.mean(basic_iteration_counts), np.mean(differential_iteration_counts)])"
   ]
  },
  {
   "cell_type": "code",
   "execution_count": null,
   "id": "50a117fd",
   "metadata": {},
   "outputs": [],
   "source": [
    "plot_test_scores = np.array([basic_test_scores, differential_test_scores])"
   ]
  },
  {
   "cell_type": "code",
   "execution_count": null,
   "id": "3a2c06bd",
   "metadata": {},
   "outputs": [],
   "source": [
    "plot_iteration_counts = np.array([basic_iteration_counts, differential_iteration_counts])"
   ]
  },
  {
   "cell_type": "code",
   "execution_count": null,
   "id": "6d846777",
   "metadata": {},
   "outputs": [],
   "source": [
    "fig, (ax1, ax2) = plt.subplots(1, 2)\n",
    "fig.suptitle('Horizontally stacked subplots')\n",
    "ax1.plot(['basic','differential'],plot_test_scores)\n",
    "ax2.plot(['basic','differential'], plot_iteration_counts)"
   ]
  },
  {
   "cell_type": "code",
   "execution_count": null,
   "id": "79cbfa0a",
   "metadata": {},
   "outputs": [],
   "source": [
    "plt.boxplot(np.transpose(plot_test_scores), labels = ['static', 'dynamic'])\n",
    "plt.title('Held-out Accuracy Rates by Weight Update Scheme')\n",
    "plt.ylabel('Accuracy Rate on Held-out Data')"
   ]
  },
  {
   "cell_type": "code",
   "execution_count": null,
   "id": "8012f4d5",
   "metadata": {},
   "outputs": [],
   "source": [
    "plt.boxplot(np.transpose(plot_iteration_counts), labels = ['static', 'dynamic'])\n",
    "plt.ylabel('Number of Iterations until Convergence (Millions)')"
   ]
  },
  {
   "cell_type": "code",
   "execution_count": null,
   "id": "c6055563",
   "metadata": {},
   "outputs": [],
   "source": [
    "plot_test_scores"
   ]
  },
  {
   "cell_type": "code",
   "execution_count": null,
   "id": "4a764275",
   "metadata": {},
   "outputs": [],
   "source": [
    "plt.plot(clf.loss_array)"
   ]
  },
  {
   "cell_type": "code",
   "execution_count": null,
   "id": "3cc29820",
   "metadata": {},
   "outputs": [],
   "source": [
    "clf = LogisticRegression(penalty=\"none\", solver = 'sag', max_iter = 100000)"
   ]
  },
  {
   "cell_type": "code",
   "execution_count": null,
   "id": "8f7b794d",
   "metadata": {},
   "outputs": [],
   "source": [
    "clf.fit(X_std,y)\n",
    "predict_y = clf.predict_proba(X_std)"
   ]
  },
  {
   "cell_type": "code",
   "execution_count": null,
   "id": "6d78b21f",
   "metadata": {},
   "outputs": [],
   "source": [
    "score = clf.score(X_std, y)\n",
    "score"
   ]
  },
  {
   "cell_type": "code",
   "execution_count": null,
   "id": "0a1bf221",
   "metadata": {},
   "outputs": [],
   "source": [
    "sk_weights = clf.coef_[0]"
   ]
  },
  {
   "cell_type": "code",
   "execution_count": null,
   "id": "d9e27497",
   "metadata": {},
   "outputs": [],
   "source": [
    "clf.w_D"
   ]
  },
  {
   "cell_type": "code",
   "execution_count": null,
   "id": "b1ce8676",
   "metadata": {},
   "outputs": [],
   "source": [
    "clf.intercept_"
   ]
  },
  {
   "cell_type": "code",
   "execution_count": null,
   "id": "1cbb0219",
   "metadata": {},
   "outputs": [],
   "source": [
    "clf.c"
   ]
  },
  {
   "cell_type": "code",
   "execution_count": null,
   "id": "2f5e43e7",
   "metadata": {},
   "outputs": [],
   "source": [
    "y_pred = clf.predict_proba(X_std)"
   ]
  },
  {
   "cell_type": "code",
   "execution_count": null,
   "id": "fe8ec018",
   "metadata": {},
   "outputs": [],
   "source": [
    "RocCurveDisplay.from_predictions(y, y_pred)"
   ]
  },
  {
   "cell_type": "code",
   "execution_count": null,
   "id": "6d31cc78",
   "metadata": {},
   "outputs": [],
   "source": [
    "fpr, fnr, thresholds = det_curve(y, y_pred)"
   ]
  },
  {
   "cell_type": "code",
   "execution_count": null,
   "id": "749a274d",
   "metadata": {},
   "outputs": [],
   "source": [
    "fpr"
   ]
  },
  {
   "cell_type": "code",
   "execution_count": null,
   "id": "9d555a4b",
   "metadata": {},
   "outputs": [],
   "source": [
    "plt.plot(thresholds, fpr)\n",
    "plt.plot(thresholds, fnr)"
   ]
  },
  {
   "cell_type": "code",
   "execution_count": null,
   "id": "1e878d4a",
   "metadata": {},
   "outputs": [],
   "source": []
  }
 ],
 "metadata": {
  "kernelspec": {
   "display_name": "Python 3 (ipykernel)",
   "language": "python",
   "name": "python3"
  },
  "language_info": {
   "codemirror_mode": {
    "name": "ipython",
    "version": 3
   },
   "file_extension": ".py",
   "mimetype": "text/x-python",
   "name": "python",
   "nbconvert_exporter": "python",
   "pygments_lexer": "ipython3",
   "version": "3.8.2"
  }
 },
 "nbformat": 4,
 "nbformat_minor": 5
}
